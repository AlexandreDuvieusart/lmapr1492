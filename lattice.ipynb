{
 "cells": [
  {
   "cell_type": "markdown",
   "id": "negative-rendering",
   "metadata": {},
   "source": [
    "# Introduction\n",
    "\n",
    "Ce jupyter notebook a pour but de :\n",
    "- déterminer les vecteurs de bases des réseaux direct et réciproque,\n",
    "- le type de maille,\n",
    "- le système cristallin, \n",
    "- le groupe ponctuel\n",
    "\n",
    "du matériau qui m'a été attribué; le **CsNdTe2** (mp-11742)."
   ]
  },
  {
   "cell_type": "markdown",
   "id": "gorgeous-deputy",
   "metadata": {},
   "source": [
    "### (0) importation des modules nécessaires "
   ]
  },
  {
   "cell_type": "code",
   "execution_count": 6,
   "id": "altered-kitchen",
   "metadata": {},
   "outputs": [],
   "source": [
    "# On importe tout les modules qui nous seront potentiellement utiles\n",
    "from pymatgen.ext.matproj import MPRester\n",
    "from pymatgen.apps.borg.hive import VaspToComputedEntryDrone\n",
    "from pymatgen.apps.borg.queen import BorgQueen\n",
    "from pymatgen.entries.compatibility import MaterialsProjectCompatibility\n",
    "from pymatgen.analysis.phase_diagram import PhaseDiagram, PDPlotter\n",
    "from jupyter_jsmol.pymatgen import quick_view\n",
    "from pymatgen.symmetry.analyzer import SpacegroupAnalyzer\n",
    "from pymatgen.core.lattice import Lattice\n",
    "\n",
    "# On télécharge le ﬁchier CIF du matériau sur le MP sur base de l'API\n",
    "with MPRester(\"NwZmcoOXaAFq0K75qQZ\") as m:\n",
    "\n",
    "    # Structure for material id\n",
    "    structure = m.get_structure_by_material_id(\"mp-11742\")\n",
    "\n"
   ]
  },
  {
   "cell_type": "markdown",
   "id": "sweet-marking",
   "metadata": {},
   "source": [
    "### (1) Vecteurs de bases des réseaux direct et réciproque"
   ]
  },
  {
   "cell_type": "code",
   "execution_count": 35,
   "id": "urban-classic",
   "metadata": {},
   "outputs": [
    {
     "name": "stdout",
     "output_type": "stream",
     "text": [
      "----------données brutes---------\n",
      "---> coordonnées cartésiennes des vecteurs de bases (Réseau direct)\n",
      "9.054383 -2.341648 0.000000\n",
      "9.054383 2.341648 0.000000\n",
      "8.448785 0.000000 4.010386\n",
      "---> norme des vecteurs a, b, et c (paramètres de maille)\n",
      "(9.352281372295906, 9.352281372295906, 9.352281210764623)\n",
      "---> angles entres les vecteurs de bases\n",
      "(29.000300008372854, 29.000300008372854, 29.00030060443356)\n",
      "---> coordonnées cartésiennes des vecteurs de bases (Réseau réciproque)\n",
      "0.346969 -1.341616 -0.730969\n",
      "0.346969 1.341616 -0.730969\n",
      "0.000000 0.000000 1.566728\n",
      "---> norme des vecteurs a*, b*, et c* (paramètres de maille)\n",
      "(1.5667282602563706, 1.5667282602563706, 1.566728316720532)\n",
      "---> angles entres les vecteurs de bases\n",
      "(117.81108428138728, 117.81108428138728, 117.81108224283874)\n"
     ]
    }
   ],
   "source": [
    "# RD = réseau direct; RR = réseau réciproque\n",
    "vectRD = structure.lattice\n",
    "vectRR = structure.lattice.reciprocal_lattice\n",
    "\n",
    "print(\"----------données brutes---------\")\n",
    "print (\"---> coordonnées cartésiennes des vecteurs de bases (Réseau direct)\")\n",
    "print(vectRD)\n",
    "print(\"---> norme des vecteurs a, b, et c (paramètres de maille)\")\n",
    "print(vectRD.abc)\n",
    "print(\"---> angles entres les vecteurs de bases\")\n",
    "print(vectRD.angles)\n",
    "print (\"---> coordonnées cartésiennes des vecteurs de bases (Réseau réciproque)\")\n",
    "print(vectRR)\n",
    "print(\"---> norme des vecteurs a*, b*, et c* (paramètres de maille)\")\n",
    "print(vectRR.abc)\n",
    "print(\"---> angles entres les vecteurs de bases\")\n",
    "print(vectRR.angles)\n",
    "\n",
    "\n",
    "\n"
   ]
  },
  {
   "cell_type": "markdown",
   "id": "solid-european",
   "metadata": {},
   "source": [
    "Les coordonnées cartésiennes des vecteurs de bases du réseau directe sont:\n",
    "- $\\overrightarrow{a} = (9.054383, -2.341648, 0.000000)$ et $ \\| \\overrightarrow{a} \\| = 9.352281372295906   [angstrom] $  \n",
    "- $\\overrightarrow{b} = (9.054383, 2.341648, 0.000000)$ et $ \\| \\overrightarrow{b} \\| = 9.352281372295906  $\n",
    "- $\\overrightarrow{c} = (8.448785, 0.000000, 4.010386)$ et $ \\| \\overrightarrow{c} \\| = 9.352281372295906  $\n",
    "\n",
    "Les angles formés par les vecteurs de base du réseau direct sont:\n",
    "- $\\alpha = 29.000300008372854 ^{\\circ} $ \n",
    "- $\\beta = 29.000300008372854 ^{\\circ} $\n",
    "- $\\gamma = 29.000300008372854 ^{\\circ}$\n",
    "\n",
    "Les coordonnées cartésiennes des vecteurs de bases du réseau directe sont:\n",
    "- $\\overrightarrow{a*} = (0.346969, -1.341616, -0.730969)$ et $ \\| \\overrightarrow{a*} \\| = 1.5667282602563706 [angstrom]  $ \n",
    "- $\\overrightarrow{b*} = (0.346969, 1.341616, -0.730969)$ et $ \\| \\overrightarrow{b*} \\| = 1.5667282602563706  $ \n",
    "- $\\overrightarrow{c*} = (0.000000, 0.000000, 1.566728)$ et $ \\| \\overrightarrow{c*} \\| = 1.5667282602563706  $ \n",
    "\n",
    "Les angles formés par les vecteurs de base du réseau réciproque sont:\n",
    "- $\\alpha* = 117.81108428138728 ^{\\circ} $ \n",
    "- $\\beta* = 117.81108428138728 ^{\\circ} $\n",
    "- $\\gamma* = 117.81108428138728 ^{\\circ}$\n"
   ]
  },
  {
   "cell_type": "markdown",
   "id": "chief-chile",
   "metadata": {},
   "source": [
    "### (2) Type de maille "
   ]
  },
  {
   "cell_type": "code",
   "execution_count": 22,
   "id": "virtual-fence",
   "metadata": {},
   "outputs": [
    {
     "name": "stdout",
     "output_type": "stream",
     "text": [
      "type de maille: rhombohedral\n"
     ]
    }
   ],
   "source": [
    "type_de_maille = SpacegroupAnalyzer(structure).get_lattice_type()\n",
    "print(\"type de maille:\", type_de_maille)"
   ]
  },
  {
   "cell_type": "markdown",
   "id": "dimensional-assurance",
   "metadata": {},
   "source": [
    "La maille primitive du matériau est **rhombohedrale**."
   ]
  },
  {
   "cell_type": "markdown",
   "id": "defined-grounds",
   "metadata": {},
   "source": [
    "### (3) Système cristallin "
   ]
  },
  {
   "cell_type": "code",
   "execution_count": 41,
   "id": "painful-expense",
   "metadata": {},
   "outputs": [
    {
     "name": "stdout",
     "output_type": "stream",
     "text": [
      "système cristallin: trigonal\n"
     ]
    }
   ],
   "source": [
    "systeme_cristallin = SpacegroupAnalyzer(structure).get_crystal_system()\n",
    "print(\"système cristallin:\",systeme_cristallin)"
   ]
  },
  {
   "cell_type": "markdown",
   "id": "wicked-bridge",
   "metadata": {},
   "source": [
    "Le système cristallin du matériau est **trigonal**."
   ]
  },
  {
   "cell_type": "markdown",
   "id": "conscious-treasury",
   "metadata": {},
   "source": [
    "### (4) Groupe ponctuel"
   ]
  },
  {
   "cell_type": "code",
   "execution_count": 15,
   "id": "bulgarian-advertiser",
   "metadata": {
    "scrolled": true
   },
   "outputs": [
    {
     "name": "stdout",
     "output_type": "stream",
     "text": [
      "groupe ponctuel: -3m\n",
      "groupe d'espace : R-3m\n"
     ]
    }
   ],
   "source": [
    "groupeponctuel = SpacegroupAnalyzer(structure).get_point_group_symbol()\n",
    "groupedespace = SpacegroupAnalyzer(structure).get_space_group_symbol()\n",
    "print(\"groupe ponctuel:\",groupeponctuel)\n",
    "print(\"groupe d'espace :\", groupedespace)"
   ]
  },
  {
   "cell_type": "markdown",
   "id": "orange-distribution",
   "metadata": {},
   "source": [
    "Le groupe ponctuel du matériau est **-3m** et son groupe d'espace est **R-3m** (166). "
   ]
  },
  {
   "cell_type": "markdown",
   "id": "welcome-winter",
   "metadata": {},
   "source": [
    "### (5) Conclusion\n",
    "\n",
    "En conclusion, on visualise la cellule primitive du matériau. Les caractéristiques de celle-ci, affichée en haut à gauche concordent avec les résultats obtenus précedemment. "
   ]
  },
  {
   "cell_type": "code",
   "execution_count": 11,
   "id": "productive-livestock",
   "metadata": {},
   "outputs": [
    {
     "data": {
      "application/vnd.jupyter.widget-view+json": {
       "model_id": "164997afdc9b47278d27514ba2601c14",
       "version_major": 2,
       "version_minor": 0
      },
      "text/plain": [
       "JsmolView(layout=Layout(align_self='stretch', height='400px'))"
      ]
     },
     "metadata": {},
     "output_type": "display_data"
    }
   ],
   "source": [
    "view = quick_view(structure)\n",
    "display(view) "
   ]
  }
 ],
 "metadata": {
  "kernelspec": {
   "display_name": "Python 3",
   "language": "python",
   "name": "python3"
  },
  "language_info": {
   "codemirror_mode": {
    "name": "ipython",
    "version": 3
   },
   "file_extension": ".py",
   "mimetype": "text/x-python",
   "name": "python",
   "nbconvert_exporter": "python",
   "pygments_lexer": "ipython3",
   "version": "3.6.8"
  }
 },
 "nbformat": 4,
 "nbformat_minor": 5
}
