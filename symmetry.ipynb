{
 "cells": [
  {
   "cell_type": "markdown",
   "id": "mental-floating",
   "metadata": {},
   "source": [
    "# Introduction \n",
    "\n",
    "Ce jupyter Notebook a pour but:\n",
    "\n",
    "- d'étudier l’effet de 3 éléments de symétrie différents, chacun pour 1 atome différent du matériau qui m'a été attribué\n",
    "- de mentionner les équations de symétrie \n",
    "- d'y inclure les représentations sur base de jupyter-jsmol\n",
    "\n",
    "Le matériau qui m'a été attribué est le **CsNdTe2** (mp-11742)."
   ]
  },
  {
   "cell_type": "markdown",
   "id": "dental-pound",
   "metadata": {},
   "source": [
    "### (0) importation des modules nécessaires"
   ]
  },
  {
   "cell_type": "code",
   "execution_count": 40,
   "id": "satellite-privacy",
   "metadata": {},
   "outputs": [],
   "source": [
    "# On importe tout les modules qui nous seront potentiellement utiles\n",
    "# Certains ne sont pas utiles\n",
    "\n",
    "from pymatgen.ext.matproj import MPRester\n",
    "from pymatgen.apps.borg.hive import VaspToComputedEntryDrone\n",
    "from pymatgen.apps.borg.queen import BorgQueen\n",
    "from pymatgen.entries.compatibility import MaterialsProjectCompatibility\n",
    "from pymatgen.analysis.phase_diagram import PhaseDiagram, PDPlotter\n",
    "from jupyter_jsmol.pymatgen import quick_view\n",
    "from pymatgen.symmetry.analyzer import SpacegroupAnalyzer\n",
    "from pymatgen.core.lattice import Lattice\n",
    "from pymatgen import Lattice, Structure\n",
    "from pymatgen.symmetry.site_symmetries import *\n",
    "from pymatgen.symmetry.analyzer import *\n",
    "\n",
    "\n",
    "# On télécharge le ﬁchier CIF du matériau sur le MP sur base de l'API\n",
    "with MPRester(\"NwZmcoOXaAFq0K75qQZ\") as m:\n",
    "\n",
    "    # Structure for material id\n",
    "    structure = m.get_structure_by_material_id(\"mp-11742\")\n",
    "    \n",
    "# On travaille sur la cellule conventionnelle\n",
    "struct = SpacegroupAnalyzer(structure).get_conventional_standard_structure()\n",
    "\n",
    "# On obtient la liste des symétries contenues dans le CIF\n",
    "liste_des_symétries = SpacegroupAnalyzer(struct).get_symmetry_operations()\n",
    "\n"
   ]
  },
  {
   "cell_type": "markdown",
   "id": "rough-dependence",
   "metadata": {},
   "source": [
    "### (1) opération de symétrie n°1"
   ]
  },
  {
   "cell_type": "code",
   "execution_count": 48,
   "id": "attended-monster",
   "metadata": {
    "scrolled": true
   },
   "outputs": [
    {
     "name": "stdout",
     "output_type": "stream",
     "text": [
      "----------Données brutes----------\n",
      "coordonnées avant opération: [0.0, 0.0, 0.5]\n",
      "coordonnées après opération: [0.66666667 0.33333333 0.83333333]\n",
      "matrice de rotation appliquée:\n",
      "[[1. 0. 0.]\n",
      " [0. 1. 0.]\n",
      " [0. 0. 1.]]\n",
      "vecteur de translation appliqué [0.66666667 0.33333333 0.33333333]\n"
     ]
    }
   ],
   "source": [
    "# On a choisit l'opération de symétrie n°13\n",
    "s1 = liste_des_symétries[12]\n",
    "\n",
    "# L'atome choisit est un atome de Cs se trouvant en (0.0, 0.0, 0.5)\n",
    "atome1 = [0.0, 0.0, 0.5]\n",
    "\n",
    "# application de l'opération de symétrie\n",
    "image1 = s1.operate(atome1)\n",
    "\n",
    "print(\"----------Données brutes----------\")\n",
    "print(\"coordonnées avant opération:\", atome1)\n",
    "print(\"coordonnées après opération:\", image1)\n",
    "print(\"matrice de rotation appliquée:\")\n",
    "print(s1.rotation_matrix)\n",
    "print(\"vecteur de translation appliqué:\",s1.translation_vector)\n"
   ]
  },
  {
   "cell_type": "markdown",
   "id": "distinguished-blink",
   "metadata": {},
   "source": [
    "#### (a) équation de symétrie et commentaires\n",
    "\n",
    "- L'opération de symétrie **n°13** est une **translation**.\n",
    "- L'équation de symétrie est **(x,y,z) -> (x + 2/3, y + 1/3, z + 1/3)**.\n",
    "- Par exemple, l'atome de Cs (n°1) initialement en **(0.0, 0.0, 0.5)**, c'est à dire **(0.0, 0.0, 13.42932)** en coordonnées cartésiennes se retrouve en **(0.6667, 0.333, 0.833)** ; soit en  **(2.34165, 1.35195, 22.38220)** en coordonnées cartésiennes, ce que confirme l'illustration ci-dessous.\n",
    "- La matrice de rotation est bien unitaire, ce qui prouve que l'opération de symétrie est bien une translation."
   ]
  },
  {
   "cell_type": "markdown",
   "id": "removed-perspective",
   "metadata": {},
   "source": [
    "#### (b) visualisation de la symétrie"
   ]
  },
  {
   "cell_type": "code",
   "execution_count": 57,
   "id": "operating-highway",
   "metadata": {
    "scrolled": false
   },
   "outputs": [
    {
     "data": {
      "application/vnd.jupyter.widget-view+json": {
       "model_id": "374e57e2fea0436aafe4e051674d97d3",
       "version_major": 2,
       "version_minor": 0
      },
      "text/plain": [
       "JsmolView(layout=Layout(align_self='stretch', height='400px'))"
      ]
     },
     "metadata": {},
     "output_type": "display_data"
    }
   ],
   "source": [
    "view = quick_view(struct)\n",
    "display(view) \n",
    "view.script('draw symop 13 {atomno=1}')\n",
    "\n",
    "# remarque: si la symétrie ne s'affiche pas, il faut le faire \"manuellement\"\n",
    "# clique droit sur l'atome en question -> symmetry -> choissir le bon numéro. "
   ]
  },
  {
   "cell_type": "markdown",
   "id": "welsh-illness",
   "metadata": {},
   "source": [
    "### (2) opération de symétrie n°2"
   ]
  },
  {
   "cell_type": "code",
   "execution_count": 52,
   "id": "corresponding-building",
   "metadata": {},
   "outputs": [
    {
     "name": "stdout",
     "output_type": "stream",
     "text": [
      "----------Données brutes----------\n",
      "coordonnées avant opération: [0.33333, 0.66667, 0.16667]\n",
      "coordonnées après opération: [-0.33333 -0.66667 -0.16667]\n",
      "matrice de rotation appliquée:\n",
      "[[-1.  0.  0.]\n",
      " [ 0. -1.  0.]\n",
      " [ 0.  0. -1.]]\n",
      "vecteur de translation appliqué: [0. 0. 0.]\n"
     ]
    }
   ],
   "source": [
    "# On a choisit l'opération de symétrie n°2\n",
    "s2 = liste_des_symétries[1]\n",
    "\n",
    "# L'atome choisit est un atome de Cs se trouvant (0.33333, 0.66667, 0.16667)\n",
    "atome2 = [0.33333, 0.66667, 0.16667]\n",
    "\n",
    "# application de l'opération de symétrie\n",
    "image2 = s2.operate(atome2)\n",
    "\n",
    "print(\"----------Données brutes----------\")\n",
    "print(\"coordonnées avant opération:\", atome2)\n",
    "print(\"coordonnées après opération:\", image2)\n",
    "print(\"matrice de rotation appliquée:\")\n",
    "print(s2.rotation_matrix)\n",
    "print(\"vecteur de translation appliqué:\",s2.translation_vector)"
   ]
  },
  {
   "cell_type": "markdown",
   "id": "departmental-richmond",
   "metadata": {},
   "source": [
    "#### (a) équation de symétrie et commentaires"
   ]
  },
  {
   "cell_type": "markdown",
   "id": "colonial-glance",
   "metadata": {},
   "source": [
    "- L'opération de symétrie **n°2** est une **inversion (par rapport à l'origine)**.\n",
    "- L'équation de symétrie est **(x, y, z) -> (-x, -y, -z)**.\n",
    "- Par exemple, l'atome de Cs initialement en **(1/3, 2/3, 1/6)**, c'est à dire **(0.00000   2.70390   4.47644)** en coordonnées cartésiennes se retrouve en **(-1/3, -2/3, -1/6)** ; soit en  **(0.00000, -2.70390, -4.47644)** en coordonnées cartésiennes, ce que confirme l'illustration ci-dessous.\n",
    "- La matrice de rotation est bien l'opposée de la matrice unitaire, et le vecteur de translation est nul, ce qui prouve que l'opération de symétrie est bien une inversion par rapport à l'origine."
   ]
  },
  {
   "cell_type": "markdown",
   "id": "checked-vector",
   "metadata": {},
   "source": [
    "#### (b) visualisation de la symétrie"
   ]
  },
  {
   "cell_type": "code",
   "execution_count": 55,
   "id": "front-copyright",
   "metadata": {},
   "outputs": [
    {
     "data": {
      "application/vnd.jupyter.widget-view+json": {
       "model_id": "3c51ed25bfd94976af2637e56471a467",
       "version_major": 2,
       "version_minor": 0
      },
      "text/plain": [
       "JsmolView(layout=Layout(align_self='stretch', height='400px'))"
      ]
     },
     "metadata": {},
     "output_type": "display_data"
    }
   ],
   "source": [
    "view = quick_view(struct)\n",
    "display(view) \n",
    "view.script('draw symop 2 {atomno=1}')\n",
    "\n",
    "# remarque: si la symétrie ne s'affiche pas, il faut le faire \"manuellement\"\n",
    "# clique droit sur l'atome en question -> symmetry -> choissir le bon numéro."
   ]
  },
  {
   "cell_type": "markdown",
   "id": "virtual-crossing",
   "metadata": {},
   "source": [
    "### (3) opération de symétrie n°3"
   ]
  },
  {
   "cell_type": "code",
   "execution_count": 65,
   "id": "meaningful-diana",
   "metadata": {},
   "outputs": [
    {
     "name": "stdout",
     "output_type": "stream",
     "text": [
      "----------Données brutes----------\n",
      "coordonnées avant opération: [1.0, 0.0, 0.7316]\n",
      "coordonnées après opération: [1.     1.     0.7316]\n",
      "matrice de rotation appliquée:\n",
      "[[ 1.  0.  0.]\n",
      " [ 1. -1.  0.]\n",
      " [ 0.  0.  1.]]\n",
      "vecteur de translation appliqué: [0. 0. 0.]\n"
     ]
    }
   ],
   "source": [
    "# On a choisit l'opération de symétrie n°12\n",
    "s3 = liste_des_symétries[11]\n",
    "\n",
    "# L'atome choisit est un atome de Te se trouvant en (1.00000   0.00000   0.73160)\n",
    "atome3 = [1.00000, 0.00000, 0.73160]\n",
    "\n",
    "# application de l'opération de symétrie\n",
    "image3 = s3.operate(atome3)\n",
    "\n",
    "print(\"----------Données brutes----------\")\n",
    "print(\"coordonnées avant opération:\", atome3)\n",
    "print(\"coordonnées après opération:\", image3)\n",
    "print(\"matrice de rotation appliquée:\")\n",
    "print(s3.rotation_matrix)\n",
    "print(\"vecteur de translation appliqué:\",s3.translation_vector)"
   ]
  },
  {
   "cell_type": "markdown",
   "id": "regular-amber",
   "metadata": {},
   "source": [
    "#### (a) équation de symétrie et commentaires\n",
    "\n",
    "- L'opération de symétrie **n°12** est un **plan mirroir**.\n",
    "- L'équation de symétrie est **(x,y,z) -> (x, x-y, z)**.\n",
    "- Par exemple, l'atome de Te initialement en **(1.0   0.0  0.73160)**, c'est à dire **( 4.68330   0.00000  19.64968)** en coordonnées cartésiennes se retrouve en **(1.     1.     0.7316)** ; soit en  **(4.68330   4.68330  19.64968)** en coordonnées cartésiennes, ce que confirme l'illustration ci-dessous.\n",
    "- On apercoit bien le plan mirroir en vert grâce à l'illustration ci-dessous."
   ]
  },
  {
   "cell_type": "markdown",
   "id": "promotional-sustainability",
   "metadata": {},
   "source": [
    "#### (b) visualisation de la symétrie"
   ]
  },
  {
   "cell_type": "code",
   "execution_count": 63,
   "id": "optimum-flash",
   "metadata": {},
   "outputs": [
    {
     "data": {
      "application/vnd.jupyter.widget-view+json": {
       "model_id": "2ccf0bec99ab4ee688f7347f397af24e",
       "version_major": 2,
       "version_minor": 0
      },
      "text/plain": [
       "JsmolView(layout=Layout(align_self='stretch', height='400px'))"
      ]
     },
     "metadata": {},
     "output_type": "display_data"
    }
   ],
   "source": [
    "view = quick_view(struct)\n",
    "display(view) \n",
    "view.script('draw symop 12 {atomno=1}')\n",
    "\n",
    "# remarque: si la symétrie ne s'affiche pas, il faut le faire \"manuellement\"\n",
    "# clique droit sur l'atome en question -> symmetry -> choissir le bon numéro."
   ]
  }
 ],
 "metadata": {
  "kernelspec": {
   "display_name": "Python 3",
   "language": "python",
   "name": "python3"
  },
  "language_info": {
   "codemirror_mode": {
    "name": "ipython",
    "version": 3
   },
   "file_extension": ".py",
   "mimetype": "text/x-python",
   "name": "python",
   "nbconvert_exporter": "python",
   "pygments_lexer": "ipython3",
   "version": "3.6.8"
  }
 },
 "nbformat": 4,
 "nbformat_minor": 5
}
